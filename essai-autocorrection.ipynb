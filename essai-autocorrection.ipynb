{
 "cells": [
  {
   "cell_type": "markdown",
   "metadata": {},
   "source": [
    "# Exemple d'utilisation de Notebook sur Jupyter Lycée connecté"
   ]
  },
  {
   "cell_type": "markdown",
   "metadata": {},
   "source": [
    "### exercice"
   ]
  },
  {
   "cell_type": "code",
   "execution_count": 4,
   "metadata": {},
   "outputs": [],
   "source": [
    "# completer cette cellule en écrivant le code de la fonction \"estPair\" qui vérifiee si x est pair\n",
    "def estPair(x):\n",
    "    return x%3==0"
   ]
  },
  {
   "cell_type": "markdown",
   "metadata": {},
   "source": [
    "## Auto-correction pour élèves"
   ]
  },
  {
   "cell_type": "markdown",
   "metadata": {},
   "source": [
    "### installation du package nécessaire"
   ]
  },
  {
   "cell_type": "code",
   "execution_count": 5,
   "metadata": {},
   "outputs": [
    {
     "name": "stdout",
     "output_type": "stream",
     "text": [
      "Requirement already satisfied: nbautoeval in c:\\anaconda\\lib\\site-packages (1.1.0)\n",
      "Requirement already satisfied: ipython in c:\\anaconda\\lib\\site-packages (from nbautoeval) (7.4.0)\n",
      "Requirement already satisfied: numpy in c:\\anaconda\\lib\\site-packages (from nbautoeval) (1.16.2)\n",
      "Requirement already satisfied: PyYAML in c:\\anaconda\\lib\\site-packages (from nbautoeval) (5.1)\n",
      "Requirement already satisfied: myst-parser in c:\\anaconda\\lib\\site-packages (from nbautoeval) (0.8.1)\n",
      "Requirement already satisfied: ipywidgets in c:\\anaconda\\lib\\site-packages (from nbautoeval) (7.4.2)\n",
      "Requirement already satisfied: decorator in c:\\anaconda\\lib\\site-packages (from ipython->nbautoeval) (4.4.0)\n",
      "Requirement already satisfied: pygments in c:\\anaconda\\lib\\site-packages (from ipython->nbautoeval) (2.3.1)\n",
      "Requirement already satisfied: jedi>=0.10 in c:\\anaconda\\lib\\site-packages (from ipython->nbautoeval) (0.13.3)\n",
      "Requirement already satisfied: setuptools>=18.5 in c:\\anaconda\\lib\\site-packages (from ipython->nbautoeval) (40.8.0)\n",
      "Requirement already satisfied: traitlets>=4.2 in c:\\anaconda\\lib\\site-packages (from ipython->nbautoeval) (4.3.2)\n",
      "Requirement already satisfied: prompt-toolkit<2.1.0,>=2.0.0 in c:\\anaconda\\lib\\site-packages (from ipython->nbautoeval) (2.0.9)\n",
      "Requirement already satisfied: colorama; sys_platform == \"win32\" in c:\\anaconda\\lib\\site-packages (from ipython->nbautoeval) (0.4.1)\n",
      "Requirement already satisfied: backcall in c:\\anaconda\\lib\\site-packages (from ipython->nbautoeval) (0.1.0)\n",
      "Requirement already satisfied: pickleshare in c:\\anaconda\\lib\\site-packages (from ipython->nbautoeval) (0.7.5)\n",
      "Requirement already satisfied: markdown-it-py~=0.4.5 in c:\\anaconda\\lib\\site-packages (from myst-parser->nbautoeval) (0.4.5)\n",
      "Requirement already satisfied: ipykernel>=4.5.1 in c:\\anaconda\\lib\\site-packages (from ipywidgets->nbautoeval) (5.1.0)\n",
      "Requirement already satisfied: widgetsnbextension~=3.4.0 in c:\\anaconda\\lib\\site-packages (from ipywidgets->nbautoeval) (3.4.2)\n",
      "Requirement already satisfied: nbformat>=4.2.0 in c:\\anaconda\\lib\\site-packages (from ipywidgets->nbautoeval) (4.4.0)\n",
      "Requirement already satisfied: parso>=0.3.0 in c:\\anaconda\\lib\\site-packages (from jedi>=0.10->ipython->nbautoeval) (0.3.4)\n",
      "Requirement already satisfied: six in c:\\anaconda\\lib\\site-packages (from traitlets>=4.2->ipython->nbautoeval) (1.12.0)\n",
      "Requirement already satisfied: ipython-genutils in c:\\anaconda\\lib\\site-packages (from traitlets>=4.2->ipython->nbautoeval) (0.2.0)\n",
      "Requirement already satisfied: wcwidth in c:\\anaconda\\lib\\site-packages (from prompt-toolkit<2.1.0,>=2.0.0->ipython->nbautoeval) (0.1.7)\n",
      "Requirement already satisfied: attrs~=19.3 in c:\\anaconda\\lib\\site-packages (from markdown-it-py~=0.4.5->myst-parser->nbautoeval) (19.3.0)\n",
      "Requirement already satisfied: tornado>=4.2 in c:\\anaconda\\lib\\site-packages (from ipykernel>=4.5.1->ipywidgets->nbautoeval) (6.0.2)\n",
      "Requirement already satisfied: jupyter-client in c:\\anaconda\\lib\\site-packages (from ipykernel>=4.5.1->ipywidgets->nbautoeval) (5.2.4)\n",
      "Requirement already satisfied: notebook>=4.4.1 in c:\\anaconda\\lib\\site-packages (from widgetsnbextension~=3.4.0->ipywidgets->nbautoeval) (5.7.8)\n",
      "Requirement already satisfied: jupyter-core in c:\\anaconda\\lib\\site-packages (from nbformat>=4.2.0->ipywidgets->nbautoeval) (4.4.0)\n",
      "Requirement already satisfied: jsonschema!=2.5.0,>=2.4 in c:\\anaconda\\lib\\site-packages (from nbformat>=4.2.0->ipywidgets->nbautoeval) (3.0.1)\n",
      "Requirement already satisfied: pyzmq>=13 in c:\\anaconda\\lib\\site-packages (from jupyter-client->ipykernel>=4.5.1->ipywidgets->nbautoeval) (18.0.0)\n",
      "Requirement already satisfied: python-dateutil>=2.1 in c:\\anaconda\\lib\\site-packages (from jupyter-client->ipykernel>=4.5.1->ipywidgets->nbautoeval) (2.8.0)\n",
      "Requirement already satisfied: Send2Trash in c:\\anaconda\\lib\\site-packages (from notebook>=4.4.1->widgetsnbextension~=3.4.0->ipywidgets->nbautoeval) (1.5.0)\n",
      "Requirement already satisfied: terminado>=0.8.1 in c:\\anaconda\\lib\\site-packages (from notebook>=4.4.1->widgetsnbextension~=3.4.0->ipywidgets->nbautoeval) (0.8.1)\n",
      "Requirement already satisfied: prometheus-client in c:\\anaconda\\lib\\site-packages (from notebook>=4.4.1->widgetsnbextension~=3.4.0->ipywidgets->nbautoeval) (0.6.0)\n",
      "Requirement already satisfied: jinja2 in c:\\anaconda\\lib\\site-packages (from notebook>=4.4.1->widgetsnbextension~=3.4.0->ipywidgets->nbautoeval) (2.10)\n",
      "Requirement already satisfied: nbconvert in c:\\anaconda\\lib\\site-packages (from notebook>=4.4.1->widgetsnbextension~=3.4.0->ipywidgets->nbautoeval) (5.4.1)\n",
      "Requirement already satisfied: pyrsistent>=0.14.0 in c:\\anaconda\\lib\\site-packages (from jsonschema!=2.5.0,>=2.4->nbformat>=4.2.0->ipywidgets->nbautoeval) (0.14.11)\n",
      "Requirement already satisfied: MarkupSafe>=0.23 in c:\\anaconda\\lib\\site-packages (from jinja2->notebook>=4.4.1->widgetsnbextension~=3.4.0->ipywidgets->nbautoeval) (1.1.1)\n",
      "Requirement already satisfied: mistune>=0.8.1 in c:\\anaconda\\lib\\site-packages (from nbconvert->notebook>=4.4.1->widgetsnbextension~=3.4.0->ipywidgets->nbautoeval) (0.8.4)\n",
      "Requirement already satisfied: entrypoints>=0.2.2 in c:\\anaconda\\lib\\site-packages (from nbconvert->notebook>=4.4.1->widgetsnbextension~=3.4.0->ipywidgets->nbautoeval) (0.3)\n",
      "Requirement already satisfied: bleach in c:\\anaconda\\lib\\site-packages (from nbconvert->notebook>=4.4.1->widgetsnbextension~=3.4.0->ipywidgets->nbautoeval) (3.1.0)\n",
      "Requirement already satisfied: pandocfilters>=1.4.1 in c:\\anaconda\\lib\\site-packages (from nbconvert->notebook>=4.4.1->widgetsnbextension~=3.4.0->ipywidgets->nbautoeval) (1.4.2)\n",
      "Requirement already satisfied: testpath in c:\\anaconda\\lib\\site-packages (from nbconvert->notebook>=4.4.1->widgetsnbextension~=3.4.0->ipywidgets->nbautoeval) (0.4.2)\n",
      "Requirement already satisfied: defusedxml in c:\\anaconda\\lib\\site-packages (from nbconvert->notebook>=4.4.1->widgetsnbextension~=3.4.0->ipywidgets->nbautoeval) (0.5.0)\n",
      "Requirement already satisfied: webencodings in c:\\anaconda\\lib\\site-packages (from bleach->nbconvert->notebook>=4.4.1->widgetsnbextension~=3.4.0->ipywidgets->nbautoeval) (0.5.1)\n"
     ]
    }
   ],
   "source": [
    "import sys\n",
    "!{sys.executable} -m pip install nbautoeval"
   ]
  },
  {
   "cell_type": "markdown",
   "metadata": {},
   "source": [
    "### correction"
   ]
  },
  {
   "cell_type": "code",
   "execution_count": 6,
   "metadata": {},
   "outputs": [
    {
     "name": "stdout",
     "output_type": "stream",
     "text": [
      "nbautoeval could not _log_line KO - <class 'AttributeError'> module 'os' has no attribute 'getuid'\n"
     ]
    },
    {
     "data": {
      "application/vnd.jupyter.widget-view+json": {
       "model_id": "287ebe486f9747ab9a7916c56c872f85",
       "version_major": 2,
       "version_minor": 0
      },
      "text/plain": [
       "GridBox(children=(HTML(value='<span style=\"font-size:medium;\"\\'>appel</span>', _dom_classes=('header', '')), H…"
      ]
     },
     "metadata": {},
     "output_type": "display_data"
    }
   ],
   "source": [
    "# Dans cette cellule, on charge le fichier de corrections\n",
    "import requests\n",
    "url = 'https://capytale.ac-paris.fr/pj/75/nicolas.poulain2/corrections.py'\n",
    "r = requests.get(url)\n",
    "open('corr.py', 'wb').write(r.content)\n",
    "from corr import *\n",
    "sol_estPair.correction(estPair)"
   ]
  },
  {
   "cell_type": "code",
   "execution_count": null,
   "metadata": {},
   "outputs": [],
   "source": []
  }
 ],
 "metadata": {
  "kernelspec": {
   "display_name": "Python 3",
   "language": "python",
   "name": "python3"
  },
  "language_info": {
   "codemirror_mode": {
    "name": "ipython",
    "version": 3
   },
   "file_extension": ".py",
   "mimetype": "text/x-python",
   "name": "python",
   "nbconvert_exporter": "python",
   "pygments_lexer": "ipython3",
   "version": "3.7.3"
  }
 },
 "nbformat": 4,
 "nbformat_minor": 4
}
